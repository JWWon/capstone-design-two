{
 "cells": [
  {
   "cell_type": "code",
   "execution_count": 1,
   "metadata": {},
   "outputs": [
    {
     "name": "stderr",
     "output_type": "stream",
     "text": [
      "Using TensorFlow backend.\n"
     ]
    }
   ],
   "source": [
    "import os\n",
    "from keras.preprocessing import image\n",
    "import matplotlib.pyplot as plt \n",
    "import numpy as np\n",
    "from keras.utils.np_utils import to_categorical\n",
    "import random, shutil\n",
    "from keras.models import Sequential\n",
    "from keras.layers import Dropout,Conv2D,Flatten,Dense, MaxPooling2D, BatchNormalization\n",
    "from keras.models import load_model"
   ]
  },
  {
   "cell_type": "code",
   "execution_count": 6,
   "metadata": {},
   "outputs": [
    {
     "name": "stdout",
     "output_type": "stream",
     "text": [
      "Found 38400 images belonging to 2 classes.\n",
      "Found 9600 images belonging to 2 classes.\n",
      "steps_per_epoch 1200, validation_steps 300\n"
     ]
    }
   ],
   "source": [
    "train_data_dir='data'\n",
    "batch_size=32\n",
    "\n",
    "train_datagen = image.ImageDataGenerator(rescale=1./255, validation_split=0.2)\n",
    "def generate(subset='training', data_dir='data', shuffle=False, target_size=(24,24), color_mode='grayscale', class_mode='categorical'):\n",
    "  return train_datagen.flow_from_directory(data_dir, batch_size=batch_size, target_size=target_size, color_mode=color_mode, class_mode=class_mode, shuffle=shuffle, subset=subset)\n",
    "train_generator = generate(subset='training', shuffle=True)\n",
    "validation_generator = generate(subset='validation')\n",
    "\n",
    "steps_per_epoch = len(train_generator.classes) // batch_size\n",
    "validation_steps= len(validation_generator.classes) // batch_size\n",
    "print(f\"steps_per_epoch {steps_per_epoch}, validation_steps {validation_steps}\")"
   ]
  },
  {
   "cell_type": "code",
   "execution_count": 2,
   "metadata": {},
   "outputs": [],
   "source": []
  }
 ],
 "metadata": {
  "interpreter": {
   "hash": "4a61ec2db57b1fa9fd7ac0fdc692aba24704be6d2d3e06fb94182df6acf95472"
  },
  "kernelspec": {
   "display_name": "Python 3.10.4 ('capstone-design-two')",
   "language": "python",
   "name": "python3"
  },
  "language_info": {
   "codemirror_mode": {
    "name": "ipython",
    "version": 3
   },
   "file_extension": ".py",
   "mimetype": "text/x-python",
   "name": "python",
   "nbconvert_exporter": "python",
   "pygments_lexer": "ipython3",
   "version": "3.7.12"
  },
  "orig_nbformat": 4
 },
 "nbformat": 4,
 "nbformat_minor": 2
}
